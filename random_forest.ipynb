{
 "cells": [
  {
   "cell_type": "markdown",
   "id": "77c351f1",
   "metadata": {},
   "source": [
    "# Supervised Learning : Random Forest (Bagging)"
   ]
  },
  {
   "cell_type": "markdown",
   "id": "5091e0e6",
   "metadata": {},
   "source": [
    "## Workspace setup"
   ]
  },
  {
   "cell_type": "code",
   "execution_count": 1,
   "id": "724bc870",
   "metadata": {},
   "outputs": [],
   "source": [
    "#data analysis libraries \n",
    "import numpy as np\n",
    "import pandas as pd\n",
    "import missingno\n",
    "from collections import Counter\n",
    "\n",
    "import random\n",
    "import math\n",
    "\n",
    "#visualization libraries\n",
    "import matplotlib.pyplot as plt\n",
    "import seaborn as sns\n",
    "import plotly.express as px\n",
    "#%matplotlib inline\n",
    "\n",
    "\n",
    "# Machine learning models\n",
    "from sklearn.ensemble import BaggingClassifier, RandomForestClassifier\n",
    "from sklearn.tree import DecisionTreeClassifier\n",
    "from sklearn.ensemble import RandomForestClassifier\n",
    "from sklearn.model_selection import train_test_split\n",
    "\n",
    "from sklearn.base import ClassifierMixin"
   ]
  },
  {
   "cell_type": "markdown",
   "id": "796c4346",
   "metadata": {},
   "source": [
    "## read and describe data"
   ]
  },
  {
   "cell_type": "code",
   "execution_count": 2,
   "id": "54500d12",
   "metadata": {},
   "outputs": [
    {
     "name": "stdout",
     "output_type": "stream",
     "text": [
      "### DESCRIPTION DU FICHIER \n"
     ]
    },
    {
     "data": {
      "text/html": [
       "<div>\n",
       "<style scoped>\n",
       "    .dataframe tbody tr th:only-of-type {\n",
       "        vertical-align: middle;\n",
       "    }\n",
       "\n",
       "    .dataframe tbody tr th {\n",
       "        vertical-align: top;\n",
       "    }\n",
       "\n",
       "    .dataframe thead th {\n",
       "        text-align: right;\n",
       "    }\n",
       "</style>\n",
       "<table border=\"1\" class=\"dataframe\">\n",
       "  <thead>\n",
       "    <tr style=\"text-align: right;\">\n",
       "      <th></th>\n",
       "      <th>ID</th>\n",
       "      <th>Datetime</th>\n",
       "      <th>Sensor1_PM2.5</th>\n",
       "      <th>Sensor2_PM2.5</th>\n",
       "      <th>Temperature</th>\n",
       "      <th>Relative_Humidity</th>\n",
       "      <th>Offset_fault</th>\n",
       "    </tr>\n",
       "  </thead>\n",
       "  <tbody>\n",
       "    <tr>\n",
       "      <th>count</th>\n",
       "      <td>1000</td>\n",
       "      <td>1000</td>\n",
       "      <td>986.000000</td>\n",
       "      <td>986.000000</td>\n",
       "      <td>988.000000</td>\n",
       "      <td>988.000000</td>\n",
       "      <td>1000.000000</td>\n",
       "    </tr>\n",
       "    <tr>\n",
       "      <th>unique</th>\n",
       "      <td>1000</td>\n",
       "      <td>1000</td>\n",
       "      <td>NaN</td>\n",
       "      <td>NaN</td>\n",
       "      <td>NaN</td>\n",
       "      <td>NaN</td>\n",
       "      <td>NaN</td>\n",
       "    </tr>\n",
       "    <tr>\n",
       "      <th>top</th>\n",
       "      <td>ID_QF0ZTQJ2SF5Q</td>\n",
       "      <td>2021-11-03 04:06:31</td>\n",
       "      <td>NaN</td>\n",
       "      <td>NaN</td>\n",
       "      <td>NaN</td>\n",
       "      <td>NaN</td>\n",
       "      <td>NaN</td>\n",
       "    </tr>\n",
       "    <tr>\n",
       "      <th>freq</th>\n",
       "      <td>1</td>\n",
       "      <td>1</td>\n",
       "      <td>NaN</td>\n",
       "      <td>NaN</td>\n",
       "      <td>NaN</td>\n",
       "      <td>NaN</td>\n",
       "      <td>NaN</td>\n",
       "    </tr>\n",
       "    <tr>\n",
       "      <th>mean</th>\n",
       "      <td>NaN</td>\n",
       "      <td>NaN</td>\n",
       "      <td>40.114452</td>\n",
       "      <td>37.459483</td>\n",
       "      <td>23.457692</td>\n",
       "      <td>78.226721</td>\n",
       "      <td>0.374000</td>\n",
       "    </tr>\n",
       "    <tr>\n",
       "      <th>std</th>\n",
       "      <td>NaN</td>\n",
       "      <td>NaN</td>\n",
       "      <td>26.034628</td>\n",
       "      <td>25.523357</td>\n",
       "      <td>3.859657</td>\n",
       "      <td>14.893653</td>\n",
       "      <td>0.484106</td>\n",
       "    </tr>\n",
       "    <tr>\n",
       "      <th>min</th>\n",
       "      <td>NaN</td>\n",
       "      <td>NaN</td>\n",
       "      <td>0.570000</td>\n",
       "      <td>1.200000</td>\n",
       "      <td>16.700000</td>\n",
       "      <td>27.000000</td>\n",
       "      <td>0.000000</td>\n",
       "    </tr>\n",
       "    <tr>\n",
       "      <th>25%</th>\n",
       "      <td>NaN</td>\n",
       "      <td>NaN</td>\n",
       "      <td>21.785000</td>\n",
       "      <td>19.532500</td>\n",
       "      <td>20.500000</td>\n",
       "      <td>67.000000</td>\n",
       "      <td>0.000000</td>\n",
       "    </tr>\n",
       "    <tr>\n",
       "      <th>50%</th>\n",
       "      <td>NaN</td>\n",
       "      <td>NaN</td>\n",
       "      <td>35.720000</td>\n",
       "      <td>33.075000</td>\n",
       "      <td>22.100000</td>\n",
       "      <td>83.000000</td>\n",
       "      <td>0.000000</td>\n",
       "    </tr>\n",
       "    <tr>\n",
       "      <th>75%</th>\n",
       "      <td>NaN</td>\n",
       "      <td>NaN</td>\n",
       "      <td>49.395000</td>\n",
       "      <td>47.615000</td>\n",
       "      <td>26.900000</td>\n",
       "      <td>91.000000</td>\n",
       "      <td>1.000000</td>\n",
       "    </tr>\n",
       "    <tr>\n",
       "      <th>max</th>\n",
       "      <td>NaN</td>\n",
       "      <td>NaN</td>\n",
       "      <td>180.270000</td>\n",
       "      <td>168.220000</td>\n",
       "      <td>34.600000</td>\n",
       "      <td>99.000000</td>\n",
       "      <td>1.000000</td>\n",
       "    </tr>\n",
       "  </tbody>\n",
       "</table>\n",
       "</div>"
      ],
      "text/plain": [
       "                     ID             Datetime  Sensor1_PM2.5  Sensor2_PM2.5  \\\n",
       "count              1000                 1000     986.000000     986.000000   \n",
       "unique             1000                 1000            NaN            NaN   \n",
       "top     ID_QF0ZTQJ2SF5Q  2021-11-03 04:06:31            NaN            NaN   \n",
       "freq                  1                    1            NaN            NaN   \n",
       "mean                NaN                  NaN      40.114452      37.459483   \n",
       "std                 NaN                  NaN      26.034628      25.523357   \n",
       "min                 NaN                  NaN       0.570000       1.200000   \n",
       "25%                 NaN                  NaN      21.785000      19.532500   \n",
       "50%                 NaN                  NaN      35.720000      33.075000   \n",
       "75%                 NaN                  NaN      49.395000      47.615000   \n",
       "max                 NaN                  NaN     180.270000     168.220000   \n",
       "\n",
       "        Temperature  Relative_Humidity  Offset_fault  \n",
       "count    988.000000         988.000000   1000.000000  \n",
       "unique          NaN                NaN           NaN  \n",
       "top             NaN                NaN           NaN  \n",
       "freq            NaN                NaN           NaN  \n",
       "mean      23.457692          78.226721      0.374000  \n",
       "std        3.859657          14.893653      0.484106  \n",
       "min       16.700000          27.000000      0.000000  \n",
       "25%       20.500000          67.000000      0.000000  \n",
       "50%       22.100000          83.000000      0.000000  \n",
       "75%       26.900000          91.000000      1.000000  \n",
       "max       34.600000          99.000000      1.000000  "
      ]
     },
     "execution_count": 2,
     "metadata": {},
     "output_type": "execute_result"
    }
   ],
   "source": [
    "# read data\n",
    "train= pd.read_csv('train_random_forest.csv')\n",
    "train = train[:1000]\n",
    "\n",
    "### previsualisation des donnees pour chaque fichier csv\n",
    "\n",
    "print(\"### DESCRIPTION DU FICHIER \")\n",
    "train.describe(include=\"all\")"
   ]
  },
  {
   "cell_type": "code",
   "execution_count": 3,
   "id": "2d250c5d",
   "metadata": {},
   "outputs": [
    {
     "data": {
      "text/html": [
       "<div>\n",
       "<style scoped>\n",
       "    .dataframe tbody tr th:only-of-type {\n",
       "        vertical-align: middle;\n",
       "    }\n",
       "\n",
       "    .dataframe tbody tr th {\n",
       "        vertical-align: top;\n",
       "    }\n",
       "\n",
       "    .dataframe thead th {\n",
       "        text-align: right;\n",
       "    }\n",
       "</style>\n",
       "<table border=\"1\" class=\"dataframe\">\n",
       "  <thead>\n",
       "    <tr style=\"text-align: right;\">\n",
       "      <th></th>\n",
       "      <th>ID</th>\n",
       "      <th>Datetime</th>\n",
       "      <th>Sensor1_PM2.5</th>\n",
       "      <th>Sensor2_PM2.5</th>\n",
       "      <th>Temperature</th>\n",
       "      <th>Relative_Humidity</th>\n",
       "      <th>Offset_fault</th>\n",
       "    </tr>\n",
       "  </thead>\n",
       "  <tbody>\n",
       "    <tr>\n",
       "      <th>0</th>\n",
       "      <td>ID_QF0ZTQJ2SF5Q</td>\n",
       "      <td>2021-11-03 04:06:31</td>\n",
       "      <td>52.58</td>\n",
       "      <td>49.52</td>\n",
       "      <td>17.4</td>\n",
       "      <td>96.0</td>\n",
       "      <td>0</td>\n",
       "    </tr>\n",
       "    <tr>\n",
       "      <th>1</th>\n",
       "      <td>ID_4GTK689CNX5S</td>\n",
       "      <td>2021-11-08 18:43:23</td>\n",
       "      <td>35.25</td>\n",
       "      <td>33.40</td>\n",
       "      <td>25.0</td>\n",
       "      <td>75.0</td>\n",
       "      <td>0</td>\n",
       "    </tr>\n",
       "    <tr>\n",
       "      <th>2</th>\n",
       "      <td>ID_DL7VVKW9U7XQ</td>\n",
       "      <td>2021-11-07 09:50:33</td>\n",
       "      <td>19.18</td>\n",
       "      <td>23.50</td>\n",
       "      <td>24.9</td>\n",
       "      <td>75.0</td>\n",
       "      <td>0</td>\n",
       "    </tr>\n",
       "    <tr>\n",
       "      <th>3</th>\n",
       "      <td>ID_6XQOMBXM2DG3</td>\n",
       "      <td>2022-01-01 18:55:15</td>\n",
       "      <td>19.40</td>\n",
       "      <td>15.48</td>\n",
       "      <td>24.9</td>\n",
       "      <td>70.0</td>\n",
       "      <td>0</td>\n",
       "    </tr>\n",
       "    <tr>\n",
       "      <th>4</th>\n",
       "      <td>ID_UQZW9ISJY9QE</td>\n",
       "      <td>2021-11-05 22:23:48</td>\n",
       "      <td>38.30</td>\n",
       "      <td>34.77</td>\n",
       "      <td>20.9</td>\n",
       "      <td>89.0</td>\n",
       "      <td>0</td>\n",
       "    </tr>\n",
       "    <tr>\n",
       "      <th>5</th>\n",
       "      <td>ID_1A9CVG5BBKRT</td>\n",
       "      <td>2022-01-13 09:07:32</td>\n",
       "      <td>27.58</td>\n",
       "      <td>18.92</td>\n",
       "      <td>26.1</td>\n",
       "      <td>57.0</td>\n",
       "      <td>1</td>\n",
       "    </tr>\n",
       "    <tr>\n",
       "      <th>6</th>\n",
       "      <td>ID_O598XNF3QQ7H</td>\n",
       "      <td>2021-12-18 02:25:06</td>\n",
       "      <td>43.62</td>\n",
       "      <td>34.62</td>\n",
       "      <td>20.6</td>\n",
       "      <td>86.0</td>\n",
       "      <td>1</td>\n",
       "    </tr>\n",
       "    <tr>\n",
       "      <th>7</th>\n",
       "      <td>ID_MUEQIKPY6X5O</td>\n",
       "      <td>2021-11-11 04:18:59</td>\n",
       "      <td>104.35</td>\n",
       "      <td>98.00</td>\n",
       "      <td>20.3</td>\n",
       "      <td>94.0</td>\n",
       "      <td>0</td>\n",
       "    </tr>\n",
       "    <tr>\n",
       "      <th>8</th>\n",
       "      <td>ID_YOGZ8Q8O97ON</td>\n",
       "      <td>2021-12-19 06:17:43</td>\n",
       "      <td>19.22</td>\n",
       "      <td>13.25</td>\n",
       "      <td>19.3</td>\n",
       "      <td>92.0</td>\n",
       "      <td>1</td>\n",
       "    </tr>\n",
       "    <tr>\n",
       "      <th>9</th>\n",
       "      <td>ID_FR804PILRAZ0</td>\n",
       "      <td>2022-01-01 16:19:02</td>\n",
       "      <td>2.02</td>\n",
       "      <td>5.22</td>\n",
       "      <td>27.1</td>\n",
       "      <td>66.0</td>\n",
       "      <td>0</td>\n",
       "    </tr>\n",
       "  </tbody>\n",
       "</table>\n",
       "</div>"
      ],
      "text/plain": [
       "                ID             Datetime  Sensor1_PM2.5  Sensor2_PM2.5  \\\n",
       "0  ID_QF0ZTQJ2SF5Q  2021-11-03 04:06:31          52.58          49.52   \n",
       "1  ID_4GTK689CNX5S  2021-11-08 18:43:23          35.25          33.40   \n",
       "2  ID_DL7VVKW9U7XQ  2021-11-07 09:50:33          19.18          23.50   \n",
       "3  ID_6XQOMBXM2DG3  2022-01-01 18:55:15          19.40          15.48   \n",
       "4  ID_UQZW9ISJY9QE  2021-11-05 22:23:48          38.30          34.77   \n",
       "5  ID_1A9CVG5BBKRT  2022-01-13 09:07:32          27.58          18.92   \n",
       "6  ID_O598XNF3QQ7H  2021-12-18 02:25:06          43.62          34.62   \n",
       "7  ID_MUEQIKPY6X5O  2021-11-11 04:18:59         104.35          98.00   \n",
       "8  ID_YOGZ8Q8O97ON  2021-12-19 06:17:43          19.22          13.25   \n",
       "9  ID_FR804PILRAZ0  2022-01-01 16:19:02           2.02           5.22   \n",
       "\n",
       "   Temperature  Relative_Humidity  Offset_fault  \n",
       "0         17.4               96.0             0  \n",
       "1         25.0               75.0             0  \n",
       "2         24.9               75.0             0  \n",
       "3         24.9               70.0             0  \n",
       "4         20.9               89.0             0  \n",
       "5         26.1               57.0             1  \n",
       "6         20.6               86.0             1  \n",
       "7         20.3               94.0             0  \n",
       "8         19.3               92.0             1  \n",
       "9         27.1               66.0             0  "
      ]
     },
     "execution_count": 3,
     "metadata": {},
     "output_type": "execute_result"
    }
   ],
   "source": [
    "train.head(10)"
   ]
  },
  {
   "cell_type": "code",
   "execution_count": 4,
   "id": "ff087321",
   "metadata": {},
   "outputs": [
    {
     "name": "stdout",
     "output_type": "stream",
     "text": [
      "<class 'pandas.core.frame.DataFrame'>\n",
      "RangeIndex: 1000 entries, 0 to 999\n",
      "Data columns (total 7 columns):\n",
      " #   Column             Non-Null Count  Dtype  \n",
      "---  ------             --------------  -----  \n",
      " 0   ID                 1000 non-null   object \n",
      " 1   Datetime           1000 non-null   object \n",
      " 2   Sensor1_PM2.5      986 non-null    float64\n",
      " 3   Sensor2_PM2.5      986 non-null    float64\n",
      " 4   Temperature        988 non-null    float64\n",
      " 5   Relative_Humidity  988 non-null    float64\n",
      " 6   Offset_fault       1000 non-null   int64  \n",
      "dtypes: float64(4), int64(1), object(2)\n",
      "memory usage: 54.8+ KB\n"
     ]
    }
   ],
   "source": [
    "# data information \n",
    "train.info()"
   ]
  },
  {
   "cell_type": "markdown",
   "id": "5066361a",
   "metadata": {},
   "source": []
  },
  {
   "cell_type": "markdown",
   "id": "c273dc01",
   "metadata": {},
   "source": [
    "## Feature Analysis"
   ]
  },
  {
   "cell_type": "code",
   "execution_count": 5,
   "id": "598b8c5a",
   "metadata": {},
   "outputs": [
    {
     "data": {
      "text/plain": [
       "<AxesSubplot:>"
      ]
     },
     "execution_count": 5,
     "metadata": {},
     "output_type": "execute_result"
    },
    {
     "data": {
      "image/png": "[encoded data removed]",
      "text/plain": [
       "<Figure size 1800x720 with 2 Axes>"
      ]
     },
     "metadata": {
      "needs_background": "light"
     },
     "output_type": "display_data"
    }
   ],
   "source": [
    "# Missing data in training set\n",
    "missingno.matrix(train)"
   ]
  },
  {
   "cell_type": "markdown",
   "id": "7db718cc",
   "metadata": {},
   "source": [
    "### Numerical features"
   ]
  },
  {
   "cell_type": "markdown",
   "id": "2142c8f0",
   "metadata": {},
   "source": [
    "### remove outliers"
   ]
  },
  {
   "cell_type": "code",
   "execution_count": 6,
   "id": "13c19192",
   "metadata": {},
   "outputs": [
    {
     "name": "stdout",
     "output_type": "stream",
     "text": [
      " Indices of rows we'll drop:  []\n"
     ]
    }
   ],
   "source": [
    "# # Detect outliers rows\n",
    "# def detect_outliers(df, n, features):\n",
    "#     outlier_indices = [] \n",
    "#     for col in features: \n",
    "#         Q1 = np.percentile(df[col], 25)\n",
    "#         Q3 = np.percentile(df[col], 75)\n",
    "#         IQR = Q3 - Q1\n",
    "#         outlier_step = 1.5 * IQR \n",
    "#         outlier_list_col = df[(df[col] < Q1 - outlier_step) | (df[col] > Q3 + outlier_step)].index\n",
    "#         outlier_indices.extend(outlier_list_col) \n",
    "#     outlier_indices = Counter(outlier_indices)\n",
    "#     multiple_outliers = list(key for key, value in outlier_indices.items() if value > n) \n",
    "#     return multiple_outliers\n",
    "\n",
    "# outliers_to_drop = detect_outliers(train, 2, ['Sensor1_PM2.5', 'Sensor2_PM2.5', 'Temperature', 'Relative_Humidity'])\n",
    "\n",
    "# print(\" Indices of rows we'll drop: \".format(len(outliers_to_drop)), outliers_to_drop)"
   ]
  },
  {
   "cell_type": "code",
   "execution_count": 7,
   "id": "218c14d7",
   "metadata": {},
   "outputs": [
    {
     "data": {
      "text/html": [
       "<div>\n",
       "<style scoped>\n",
       "    .dataframe tbody tr th:only-of-type {\n",
       "        vertical-align: middle;\n",
       "    }\n",
       "\n",
       "    .dataframe tbody tr th {\n",
       "        vertical-align: top;\n",
       "    }\n",
       "\n",
       "    .dataframe thead th {\n",
       "        text-align: right;\n",
       "    }\n",
       "</style>\n",
       "<table border=\"1\" class=\"dataframe\">\n",
       "  <thead>\n",
       "    <tr style=\"text-align: right;\">\n",
       "      <th></th>\n",
       "      <th>ID</th>\n",
       "      <th>Datetime</th>\n",
       "      <th>Sensor1_PM2.5</th>\n",
       "      <th>Sensor2_PM2.5</th>\n",
       "      <th>Temperature</th>\n",
       "      <th>Relative_Humidity</th>\n",
       "      <th>Offset_fault</th>\n",
       "    </tr>\n",
       "  </thead>\n",
       "  <tbody>\n",
       "  </tbody>\n",
       "</table>\n",
       "</div>"
      ],
      "text/plain": [
       "Empty DataFrame\n",
       "Columns: [ID, Datetime, Sensor1_PM2.5, Sensor2_PM2.5, Temperature, Relative_Humidity, Offset_fault]\n",
       "Index: []"
      ]
     },
     "execution_count": 7,
     "metadata": {},
     "output_type": "execute_result"
    }
   ],
   "source": [
    "# # Outliers in numerical variables\n",
    "# train.loc[outliers_to_drop, :]"
   ]
  },
  {
   "cell_type": "code",
   "execution_count": 8,
   "id": "b6c5da24",
   "metadata": {},
   "outputs": [],
   "source": [
    "# Drop outliers and reset index\n",
    "\n",
    "train = train.drop(outliers_to_drop, axis = 0).reset_index(drop = True)"
   ]
  },
  {
   "cell_type": "code",
   "execution_count": 9,
   "id": "3c8f2cf8",
   "metadata": {
    "scrolled": true
   },
   "outputs": [
    {
     "data": {
      "text/plain": [
       "<AxesSubplot:>"
      ]
     },
     "execution_count": 9,
     "metadata": {},
     "output_type": "execute_result"
    },
    {
     "data": {
      "image/png": "[encoded data removed]",
      "text/plain": [
       "<Figure size 432x288 with 2 Axes>"
      ]
     },
     "metadata": {
      "needs_background": "light"
     },
     "output_type": "display_data"
    }
   ],
   "source": [
    "sns.heatmap(train[['Offset_fault', 'Relative_Humidity', 'Temperature', 'Sensor2_PM2.5', 'Sensor1_PM2.5']].corr(), annot = True, fmt = '.2f', cmap = 'coolwarm')"
   ]
  },
  {
   "cell_type": "markdown",
   "id": "e35f33b9",
   "metadata": {},
   "source": [
    "### Temperature feature"
   ]
  },
  {
   "cell_type": "code",
   "execution_count": 10,
   "id": "245e0366",
   "metadata": {},
   "outputs": [
    {
     "data": {
      "text/plain": [
       "<AxesSubplot:xlabel='Temperature', ylabel='Density'>"
      ]
     },
     "execution_count": 10,
     "metadata": {},
     "output_type": "execute_result"
    },
    {
     "data": {
      "image/png": "[encoded data removed]",
      "text/plain": [
       "<Figure size 432x288 with 1 Axes>"
      ]
     },
     "metadata": {
      "needs_background": "light"
     },
     "output_type": "display_data"
    }
   ],
   "source": [
    "# Passenger age distribution\n",
    "sns.histplot(train['Temperature'], kde=True, stat=\"density\", linewidth=0.2)"
   ]
  },
  {
   "cell_type": "code",
   "execution_count": 11,
   "id": "5657ec57",
   "metadata": {},
   "outputs": [
    {
     "data": {
      "text/plain": [
       "<matplotlib.legend.Legend at 0x233611b9730>"
      ]
     },
     "execution_count": 11,
     "metadata": {},
     "output_type": "execute_result"
    },
    {
     "data": {
      "image/png": "[encoded data removed]",
      "text/plain": [
       "<Figure size 432x288 with 1 Axes>"
      ]
     },
     "metadata": {
      "needs_background": "light"
     },
     "output_type": "display_data"
    }
   ],
   "source": [
    "sns.kdeplot(train['Temperature'][train['Offset_fault'] == 0], label = 'No Offset_fault')\n",
    "sns.kdeplot(train['Temperature'][train['Offset_fault'] == 1], label = 'Offset_fault')\n",
    "plt.title('Temperature Distribution by Offset_fault')\n",
    "plt.legend()"
   ]
  },
  {
   "cell_type": "code",
   "execution_count": 12,
   "id": "91e38405",
   "metadata": {},
   "outputs": [],
   "source": [
    "# Interpretation : Il n'y a quasiment aucune correlation entre la temperature et le Offset_fault car il est reparti de\n",
    "# façon homogène quelque soit la temperature"
   ]
  },
  {
   "cell_type": "markdown",
   "id": "39a7e84f",
   "metadata": {},
   "source": [
    "### Relative Humidity feature"
   ]
  },
  {
   "cell_type": "code",
   "execution_count": 13,
   "id": "7da70b2e",
   "metadata": {},
   "outputs": [
    {
     "data": {
      "text/plain": [
       "<AxesSubplot:xlabel='Relative_Humidity', ylabel='Density'>"
      ]
     },
     "execution_count": 13,
     "metadata": {},
     "output_type": "execute_result"
    },
    {
     "data": {
      "image/png": "[encoded data removed]",
      "text/plain": [
       "<Figure size 432x288 with 1 Axes>"
      ]
     },
     "metadata": {
      "needs_background": "light"
     },
     "output_type": "display_data"
    }
   ],
   "source": [
    "# Passenger age distribution\n",
    "\n",
    "sns.histplot(train['Relative_Humidity'], kde=True, stat=\"density\", linewidth=0)"
   ]
  },
  {
   "cell_type": "markdown",
   "id": "580d9bb1",
   "metadata": {},
   "source": [
    "### Sensor1_PM2.5 feature"
   ]
  },
  {
   "cell_type": "code",
   "execution_count": 14,
   "id": "69a0349c",
   "metadata": {},
   "outputs": [
    {
     "data": {
      "text/plain": [
       "<matplotlib.legend.Legend at 0x233611b9c10>"
      ]
     },
     "execution_count": 14,
     "metadata": {},
     "output_type": "execute_result"
    },
    {
     "data": {
      "image/png": "[encoded data removed]",
      "text/plain": [
       "<Figure size 432x288 with 1 Axes>"
      ]
     },
     "metadata": {
      "needs_background": "light"
     },
     "output_type": "display_data"
    }
   ],
   "source": [
    "sns.kdeplot(train['Sensor1_PM2.5'][train['Offset_fault'] == 0], label = 'No Offset_fault')\n",
    "sns.kdeplot(train['Sensor1_PM2.5'][train['Offset_fault'] == 1], label = 'Offset_fault')\n",
    "plt.title('Sensor1_PM2.5 Distribution by Offset_fault')\n",
    "plt.legend()"
   ]
  },
  {
   "cell_type": "markdown",
   "id": "2240bed8",
   "metadata": {},
   "source": [
    "### Sensor2_PM2.5 feature"
   ]
  },
  {
   "cell_type": "code",
   "execution_count": 15,
   "id": "43f8ff27",
   "metadata": {},
   "outputs": [
    {
     "data": {
      "text/plain": [
       "<matplotlib.legend.Legend at 0x233611c4ac0>"
      ]
     },
     "execution_count": 15,
     "metadata": {},
     "output_type": "execute_result"
    },
    {
     "data": {
      "image/png": "[encoded data removed]",
      "text/plain": [
       "<Figure size 432x288 with 1 Axes>"
      ]
     },
     "metadata": {
      "needs_background": "light"
     },
     "output_type": "display_data"
    }
   ],
   "source": [
    "sns.kdeplot(train['Sensor2_PM2.5'][train['Offset_fault'] == 0], label = 'No Offset_fault')\n",
    "sns.kdeplot(train['Sensor2_PM2.5'][train['Offset_fault'] == 1], label = 'Offset_fault')\n",
    "plt.title('Sensor2_PM2.5 Distribution by Offset_fault')\n",
    "plt.legend()"
   ]
  },
  {
   "cell_type": "markdown",
   "id": "26702488",
   "metadata": {},
   "source": [
    "## Cleaning Data : Fill missing values and drop unecessary features"
   ]
  },
  {
   "cell_type": "code",
   "execution_count": 16,
   "id": "75ca471a",
   "metadata": {},
   "outputs": [
    {
     "data": {
      "text/plain": [
       "Sensor1_PM2.5        14\n",
       "Sensor2_PM2.5        14\n",
       "Temperature          12\n",
       "Relative_Humidity    12\n",
       "ID                    0\n",
       "Datetime              0\n",
       "Offset_fault          0\n",
       "dtype: int64"
      ]
     },
     "execution_count": 16,
     "metadata": {},
     "output_type": "execute_result"
    }
   ],
   "source": [
    "# Missing values in all data set \n",
    "df_all = train\n",
    "\n",
    "df_all.isnull().sum().sort_values(ascending = False)\n",
    "\n",
    "# on constate que :  \n",
    "#  3614 valeurs dans la colonne Sensor1_PM2.5 sont nulles\n",
    "#  3614 valeurs dans la colonne Sensor2_PM2.5 sont nulles\n",
    "#  3549 valeurs dans la colonne Temperature sont nulles\n",
    "#  3549 valeurs dans la colonne Relative_Humidity sont nulles"
   ]
  },
  {
   "cell_type": "code",
   "execution_count": 17,
   "id": "d491b8c8",
   "metadata": {},
   "outputs": [
    {
     "data": {
      "text/plain": [
       "<AxesSubplot:>"
      ]
     },
     "execution_count": 17,
     "metadata": {},
     "output_type": "execute_result"
    },
    {
     "data": {
      "image/png": "[encoded data removed]",
      "text/plain": [
       "<Figure size 432x288 with 2 Axes>"
      ]
     },
     "metadata": {
      "needs_background": "light"
     },
     "output_type": "display_data"
    }
   ],
   "source": [
    "sns.heatmap(train[['Offset_fault', 'Relative_Humidity', 'Temperature', 'Sensor2_PM2.5', 'Sensor1_PM2.5']].corr(), annot = True, fmt = '.2f', cmap = 'coolwarm')"
   ]
  },
  {
   "cell_type": "markdown",
   "id": "3ee4644b",
   "metadata": {},
   "source": []
  },
  {
   "cell_type": "code",
   "execution_count": 18,
   "id": "4c46aae5",
   "metadata": {},
   "outputs": [],
   "source": [
    "def fill_missing (data , column ,nan_indicices, corralated_features) :\n",
    "\n",
    "# Loop through list and impute missing Sensor1_PM2.5\n",
    "    median_value = data[column].median()\n",
    "    \n",
    "    for index in nan_indices:\n",
    "        predict_value = data[column][(data[corralated_features] == data.iloc[index][corralated_features]) ].median()\n",
    "\n",
    "        if np.isnan(predict_value):\n",
    "            data[column].iloc[index] = median_value\n",
    "        else:\n",
    "            data[column].iloc[index] = predict_value\n",
    "            \n",
    "    return data"
   ]
  },
  {
   "cell_type": "code",
   "execution_count": 19,
   "id": "7ab85869",
   "metadata": {
    "scrolled": true
   },
   "outputs": [
    {
     "name": "stderr",
     "output_type": "stream",
     "text": [
      "C:\\ProgramData\\Anaconda3\\lib\\site-packages\\pandas\\core\\indexing.py:1732: SettingWithCopyWarning: \n",
      "A value is trying to be set on a copy of a slice from a DataFrame\n",
      "\n",
      "See the caveats in the documentation: https://pandas.pydata.org/pandas-docs/stable/user_guide/indexing.html#returning-a-view-versus-a-copy\n",
      "  self._setitem_single_block(indexer, value, name)\n"
     ]
    }
   ],
   "source": [
    "# filling missing values Temperature\n",
    "# get row index of missing Temperature\n",
    "nan_indices = list(df_all[df_all['Temperature'].isnull()].index)\n",
    "data = fill_missing (df_all , 'Temperature' , nan_indices, 'Relative_Humidity')"
   ]
  },
  {
   "cell_type": "code",
   "execution_count": 20,
   "id": "37dd8118",
   "metadata": {},
   "outputs": [],
   "source": [
    "# filling missing values Temperature\n",
    "# get row index of missing Temperature\n",
    "nan_indices = list(df_all[df_all['Relative_Humidity'].isnull()].index)\n",
    "data = fill_missing (df_all , 'Relative_Humidity' , nan_indices, 'Temperature')"
   ]
  },
  {
   "cell_type": "code",
   "execution_count": 21,
   "id": "e8364b10",
   "metadata": {},
   "outputs": [],
   "source": [
    "# filling missing values\n",
    "# get row index of missing Temperature\n",
    "nan_indices = list(df_all[df_all['Sensor1_PM2.5'].isnull()].index)\n",
    "data = fill_missing (df_all , 'Sensor1_PM2.5' , nan_indices, 'Sensor2_PM2.5')"
   ]
  },
  {
   "cell_type": "code",
   "execution_count": 22,
   "id": "5d81658f",
   "metadata": {},
   "outputs": [],
   "source": [
    "# filling missing values\n",
    "# get row index of missing Temperature\n",
    "nan_indices = list(df_all[df_all['Sensor2_PM2.5'].isnull()].index)\n",
    "data = fill_missing (df_all , 'Sensor2_PM2.5' , nan_indices, 'Sensor1_PM2.5')"
   ]
  },
  {
   "cell_type": "code",
   "execution_count": 23,
   "id": "de707b52",
   "metadata": {},
   "outputs": [
    {
     "data": {
      "text/html": [
       "<div>\n",
       "<style scoped>\n",
       "    .dataframe tbody tr th:only-of-type {\n",
       "        vertical-align: middle;\n",
       "    }\n",
       "\n",
       "    .dataframe tbody tr th {\n",
       "        vertical-align: top;\n",
       "    }\n",
       "\n",
       "    .dataframe thead th {\n",
       "        text-align: right;\n",
       "    }\n",
       "</style>\n",
       "<table border=\"1\" class=\"dataframe\">\n",
       "  <thead>\n",
       "    <tr style=\"text-align: right;\">\n",
       "      <th></th>\n",
       "      <th>ID</th>\n",
       "      <th>Datetime</th>\n",
       "      <th>Sensor1_PM2.5</th>\n",
       "      <th>Sensor2_PM2.5</th>\n",
       "      <th>Temperature</th>\n",
       "      <th>Relative_Humidity</th>\n",
       "      <th>Offset_fault</th>\n",
       "    </tr>\n",
       "  </thead>\n",
       "  <tbody>\n",
       "    <tr>\n",
       "      <th>0</th>\n",
       "      <td>ID_QF0ZTQJ2SF5Q</td>\n",
       "      <td>2021-11-03 04:06:31</td>\n",
       "      <td>52.58</td>\n",
       "      <td>49.52</td>\n",
       "      <td>17.4</td>\n",
       "      <td>96.0</td>\n",
       "      <td>0</td>\n",
       "    </tr>\n",
       "    <tr>\n",
       "      <th>1</th>\n",
       "      <td>ID_4GTK689CNX5S</td>\n",
       "      <td>2021-11-08 18:43:23</td>\n",
       "      <td>35.25</td>\n",
       "      <td>33.40</td>\n",
       "      <td>25.0</td>\n",
       "      <td>75.0</td>\n",
       "      <td>0</td>\n",
       "    </tr>\n",
       "    <tr>\n",
       "      <th>2</th>\n",
       "      <td>ID_DL7VVKW9U7XQ</td>\n",
       "      <td>2021-11-07 09:50:33</td>\n",
       "      <td>19.18</td>\n",
       "      <td>23.50</td>\n",
       "      <td>24.9</td>\n",
       "      <td>75.0</td>\n",
       "      <td>0</td>\n",
       "    </tr>\n",
       "    <tr>\n",
       "      <th>3</th>\n",
       "      <td>ID_6XQOMBXM2DG3</td>\n",
       "      <td>2022-01-01 18:55:15</td>\n",
       "      <td>19.40</td>\n",
       "      <td>15.48</td>\n",
       "      <td>24.9</td>\n",
       "      <td>70.0</td>\n",
       "      <td>0</td>\n",
       "    </tr>\n",
       "    <tr>\n",
       "      <th>4</th>\n",
       "      <td>ID_UQZW9ISJY9QE</td>\n",
       "      <td>2021-11-05 22:23:48</td>\n",
       "      <td>38.30</td>\n",
       "      <td>34.77</td>\n",
       "      <td>20.9</td>\n",
       "      <td>89.0</td>\n",
       "      <td>0</td>\n",
       "    </tr>\n",
       "  </tbody>\n",
       "</table>\n",
       "</div>"
      ],
      "text/plain": [
       "                ID             Datetime  Sensor1_PM2.5  Sensor2_PM2.5  \\\n",
       "0  ID_QF0ZTQJ2SF5Q  2021-11-03 04:06:31          52.58          49.52   \n",
       "1  ID_4GTK689CNX5S  2021-11-08 18:43:23          35.25          33.40   \n",
       "2  ID_DL7VVKW9U7XQ  2021-11-07 09:50:33          19.18          23.50   \n",
       "3  ID_6XQOMBXM2DG3  2022-01-01 18:55:15          19.40          15.48   \n",
       "4  ID_UQZW9ISJY9QE  2021-11-05 22:23:48          38.30          34.77   \n",
       "\n",
       "   Temperature  Relative_Humidity  Offset_fault  \n",
       "0         17.4               96.0             0  \n",
       "1         25.0               75.0             0  \n",
       "2         24.9               75.0             0  \n",
       "3         24.9               70.0             0  \n",
       "4         20.9               89.0             0  "
      ]
     },
     "execution_count": 23,
     "metadata": {},
     "output_type": "execute_result"
    }
   ],
   "source": [
    "df_all.head()"
   ]
  },
  {
   "cell_type": "markdown",
   "id": "af0982d4",
   "metadata": {},
   "source": [
    "## Feature engineering"
   ]
  },
  {
   "cell_type": "markdown",
   "id": "284b1b62",
   "metadata": {},
   "source": [
    "### Drop Id column because it doesn't store useful information"
   ]
  },
  {
   "cell_type": "code",
   "execution_count": 24,
   "id": "0ad5c106",
   "metadata": {
    "scrolled": true
   },
   "outputs": [],
   "source": [
    "# drop Name ID : unusable\n",
    "if 'ID' in df_all :\n",
    "    df_all = df_all.drop(['ID'], axis = 1)"
   ]
  },
  {
   "cell_type": "markdown",
   "id": "0b88e285",
   "metadata": {},
   "source": [
    "### Split Date time in multiple column (year, month, day , hour and minute)"
   ]
  },
  {
   "cell_type": "code",
   "execution_count": 25,
   "id": "5b3f2d40",
   "metadata": {},
   "outputs": [],
   "source": [
    "# train['year'] = pd.DatetimeIndex(train['Datetime']).year\n",
    "# train['month'] = pd.DatetimeIndex(train['Datetime']).month\n",
    "# train['day'] = pd.DatetimeIndex(train['Datetime']).day\n",
    "# train['hour'] = pd.DatetimeIndex(train['Datetime']).hour\n",
    "# train['minute'] = pd.DatetimeIndex(train['Datetime']).minute"
   ]
  },
  {
   "cell_type": "markdown",
   "id": "a2efd5f2",
   "metadata": {},
   "source": [
    "### Drop Datetime column now"
   ]
  },
  {
   "cell_type": "code",
   "execution_count": 26,
   "id": "8cc77f22",
   "metadata": {},
   "outputs": [],
   "source": [
    "# drop Name ID : unusable\n",
    "if 'Datetime' in df_all :\n",
    "    df_all = df_all.drop(['Datetime'], axis = 1)"
   ]
  },
  {
   "cell_type": "code",
   "execution_count": 27,
   "id": "ff931cc5",
   "metadata": {},
   "outputs": [],
   "source": [
    "# map Temperature values into groups of numerical values\n",
    "\n",
    "# df_all['Temperature_band'] , ageBandIntervals = pd.qcut(df_all['Temperature'], 10 , labels = [1, 2, 3, 4, 5, 6, 7, 8, 9, 10] , retbins=True)"
   ]
  },
  {
   "cell_type": "code",
   "execution_count": 28,
   "id": "72975008",
   "metadata": {},
   "outputs": [],
   "source": [
    "# convert Temperature_band to int type\n",
    "# df_all['Temperature_band'] = df_all['Temperature'].astype('int')"
   ]
  },
  {
   "cell_type": "code",
   "execution_count": 29,
   "id": "71d85eb2",
   "metadata": {},
   "outputs": [],
   "source": [
    "# drop Fare values\n",
    "# df_all = df_all.drop(['Temperature'], axis = 1)"
   ]
  },
  {
   "cell_type": "code",
   "execution_count": 30,
   "id": "8dddc27d",
   "metadata": {},
   "outputs": [
    {
     "name": "stdout",
     "output_type": "stream",
     "text": [
      "<class 'pandas.core.frame.DataFrame'>\n",
      "RangeIndex: 1000 entries, 0 to 999\n",
      "Data columns (total 5 columns):\n",
      " #   Column             Non-Null Count  Dtype  \n",
      "---  ------             --------------  -----  \n",
      " 0   Sensor1_PM2.5      1000 non-null   float64\n",
      " 1   Sensor2_PM2.5      1000 non-null   float64\n",
      " 2   Temperature        1000 non-null   float64\n",
      " 3   Relative_Humidity  1000 non-null   float64\n",
      " 4   Offset_fault       1000 non-null   int64  \n",
      "dtypes: float64(4), int64(1)\n",
      "memory usage: 39.2 KB\n"
     ]
    }
   ],
   "source": [
    "df_all.info()"
   ]
  },
  {
   "cell_type": "code",
   "execution_count": 31,
   "id": "dd540e01",
   "metadata": {},
   "outputs": [],
   "source": [
    "# sns.heatmap(train[['year', 'month', 'day','hour','minute','Offset_fault']].corr(), annot = True, fmt = '.2f', cmap = 'coolwarm')"
   ]
  },
  {
   "cell_type": "code",
   "execution_count": 32,
   "id": "29da08a8",
   "metadata": {},
   "outputs": [],
   "source": [
    "train = df_all"
   ]
  },
  {
   "cell_type": "markdown",
   "id": "a6aad969",
   "metadata": {},
   "source": [
    "## Modelling "
   ]
  },
  {
   "cell_type": "code",
   "execution_count": 33,
   "id": "401c913d",
   "metadata": {},
   "outputs": [
    {
     "name": "stdout",
     "output_type": "stream",
     "text": [
      "X_train shape:  (800, 4)\n",
      "Y_train shape:  (800,)\n",
      "X_test shape:  (200, 4)\n"
     ]
    }
   ],
   "source": [
    "X = train.drop('Offset_fault', axis = 1)\n",
    "Y = train['Offset_fault']\n",
    "\n",
    "X_train, X_test, Y_train, Y_test = train_test_split(X, Y, test_size = 0.20, shuffle=True, random_state = 0 )\n",
    "\n",
    "print(\"X_train shape: \", X_train.shape)\n",
    "print(\"Y_train shape: \", Y_train.shape)\n",
    "print(\"X_test shape: \", X_test.shape)"
   ]
  },
  {
   "cell_type": "markdown",
   "id": "855b953e",
   "metadata": {},
   "source": [
    "### Decision Tree"
   ]
  },
  {
   "cell_type": "code",
   "execution_count": 34,
   "id": "b037b806",
   "metadata": {},
   "outputs": [
    {
     "data": {
      "text/plain": [
       "84.0"
      ]
     },
     "execution_count": 34,
     "metadata": {},
     "output_type": "execute_result"
    }
   ],
   "source": [
    "decision_tree = DecisionTreeClassifier()\n",
    "decision_tree.fit(X_train, Y_train)\n",
    "acc_decision_tree = round(decision_tree.score(X_test, Y_test) * 100, 2)\n",
    "acc_decision_tree"
   ]
  },
  {
   "cell_type": "code",
   "execution_count": 35,
   "id": "7ee98cc5",
   "metadata": {},
   "outputs": [
    {
     "data": {
      "text/plain": [
       "0.89"
      ]
     },
     "execution_count": 35,
     "metadata": {},
     "output_type": "execute_result"
    }
   ],
   "source": [
    "model = BaggingClassifier(base_estimator=DecisionTreeClassifier(),\n",
    "                         n_estimators=100)\n",
    "\n",
    "model.fit(X_train, Y_train)\n",
    "model.score(X_test, Y_test)"
   ]
  },
  {
   "cell_type": "markdown",
   "id": "8aa0b58f",
   "metadata": {},
   "source": [
    "### Random Forest"
   ]
  },
  {
   "cell_type": "code",
   "execution_count": 36,
   "id": "4634cdbb",
   "metadata": {},
   "outputs": [
    {
     "data": {
      "text/plain": [
       "88.5"
      ]
     },
     "execution_count": 36,
     "metadata": {},
     "output_type": "execute_result"
    }
   ],
   "source": [
    "random_forest = RandomForestClassifier(n_estimators = 100)\n",
    "random_forest.fit(X_train, Y_train)\n",
    "acc_random_forest = round(random_forest.score(X_test, Y_test) * 100, 2)\n",
    "acc_random_forest"
   ]
  },
  {
   "cell_type": "code",
   "execution_count": null,
   "id": "2324d4fe",
   "metadata": {},
   "outputs": [],
   "source": []
  },
  {
   "cell_type": "markdown",
   "id": "554fc191",
   "metadata": {},
   "source": [
    "Decision tree class and container for tree objects.\n",
    "Used for creating decision tree objects, training\n",
    "objects on data, and making predictions on new data"
   ]
  },
  {
   "cell_type": "markdown",
   "id": "ec86ded2",
   "metadata": {},
   "source": [
    "## Bagging Classifier"
   ]
  },
  {
   "cell_type": "code",
   "execution_count": 37,
   "id": "1281e12b",
   "metadata": {},
   "outputs": [],
   "source": [
    "class CustomBaggingClassifier(ClassifierMixin):\n",
    "    n_trees = 8\n",
    "    tree_array = None\n",
    "    rf_max_features = None\n",
    "    \n",
    "    \n",
    "    #when finished, go back to accuracy\n",
    "    def __init__(self, n_trees = 8, rf_max_features = None):\n",
    "        # Initialize a bagging classifier with n_trees\n",
    "        # Use sklearn.tree.DecisionTreeClassifier for the decision tree implementation\n",
    "        \n",
    "        # Steps:\n",
    "        \n",
    "        # Initialize member variables to passed in values\n",
    "        \n",
    "        self.n_trees = n_trees\n",
    "        self.rf_max_features = rf_max_features\n",
    "        \n",
    "        # Initialize an empty numpy array of type object to\n",
    "        # hold all classifiers/trees\n",
    "        self.tree_array = np.empty(self.n_trees,dtype=object)\n",
    "        \n",
    "        # If this is an instance of a bagging classifier (i.e. rf_max_features is None),\n",
    "        # instantiate all classifiers/trees with the default constructor;\n",
    "        # Otherwise, we want random forests, so instantiate them with the\n",
    "        # max_features constructor\n",
    "        \n",
    "        if self.rf_max_features == None:\n",
    "            for i in range(self.n_trees):\n",
    "                self.tree_array[i] = DecisionTreeClassifier()\n",
    "            #end for i\n",
    "        else:\n",
    "            for i in range(self.n_trees):\n",
    "                self.tree_array[i] = DecisionTreeClassifier(max_features=self.rf_max_features)\n",
    "        \n",
    "\n",
    "    # end __init__\n",
    "    \n",
    "    def fit(self, X, y):\n",
    "        # Fit the bagging classifier\n",
    "        # Given a pandas dataframe of inputs X, and a pandas series y,\n",
    "        # fit each of n_trees on data obtained from X and y through\n",
    "        # bootstrapping, i.e., creating a training set of the same\n",
    "        # size as the original by random sampling with replacement\n",
    "                \n",
    "        # Steps:\n",
    "        \n",
    "        # Put together X, y so that you can pass it to\n",
    "        # __generate_bootstraps to get all your bootstraps\n",
    "        # (hint pandas concat function)\n",
    "        target_col_name = y.name\n",
    "        df = pd.concat([X,y],axis=1)\n",
    "        \n",
    "        # Call __generate_bootstraps to get all your bootstraps\n",
    "        \n",
    "        bootstraps = self.__generate_bootstraps(df)\n",
    "        \n",
    "\n",
    "        # Use the fit method of each one of your bagging classifiers\n",
    "        # to fit it on its corresponding bootstrapped data set\n",
    "        \n",
    "        for i in range(self.n_trees):\n",
    "            temp_bt = bootstraps[i]\n",
    "            \n",
    "            \n",
    "            temp_y = pd.Series(temp_bt[target_col_name])\n",
    "            temp_y = temp_y.astype(\"int\")\n",
    "            temp_x = temp_bt.drop([target_col_name],axis = 1)\n",
    "            \n",
    "            self.tree_array[i].fit(temp_x,temp_y)\n",
    "        #end for i\n",
    "        \n",
    "    # end fit\n",
    "    \n",
    "    \n",
    "    #Pre: a Dataframe X of independent variables\n",
    "    #Post: A 1d list of predictions of the Xs (as some sort of series or numpy)\n",
    "    def predict(self, X):\n",
    "        # Return prediction for each example in X\n",
    "        # Use majority voting on the individual tree predictions\n",
    "        # to determine the prediction for the bagging classifier\n",
    "        \n",
    "        # Steps:\n",
    "        \n",
    "        rows = len(X)\n",
    "        \n",
    "        # Initialize an empty 2-D numpy array of type object to hold\n",
    "        # the predictions for each tree and for each example\n",
    "        temp = np.empty(shape=(self.n_trees,rows),dtype=object)\n",
    "        \n",
    "        # Use the predict method of each one of your bagging classifiers\n",
    "        # to get predictions for each example in X\n",
    "        for i in range(self.n_trees):\n",
    "            temp[i] = self.tree_array[i].predict(X)\n",
    "            \n",
    "        #end for i\n",
    "        \n",
    "        # Use pandas mode method to get the majority prediction\n",
    "        # for each one of the examples and that is what should\n",
    "        # be returned to the caller\n",
    "\n",
    "        \n",
    "        temp_df = pd.DataFrame(temp)\n",
    "        \n",
    "        return temp_df.mode(axis=0)\n",
    "        \n",
    "\n",
    "        #return temp_df.mode(axis=0)\n",
    "        \n",
    "    # end predict\n",
    "    \n",
    "    def __generate_bootstraps(self, X_y):\n",
    "        # Steps:\n",
    "        \n",
    "        rows = len(X_y)\n",
    "        columns = X_y.columns\n",
    "        \n",
    "        # Initialize an empty numpy array of type object to\n",
    "        # hold all pandas data frames representing a \n",
    "        # bootstrapped data set for each tree\n",
    "        \n",
    "        bootstraps = np.empty(self.n_trees,dtype=object)\n",
    "\n",
    "        # For each tree\n",
    "        for i in range(self.n_trees):\n",
    "            \n",
    "            # Initialize an empty data frame for this entry\n",
    "            # in your empty numpy array\n",
    "            \n",
    "            temp = pd.DataFrame()\n",
    "            \n",
    "            # For each row in original data set\n",
    "            for j in range(rows):\n",
    "                # Append a random row from original data set\n",
    "                # into this bootstrap\n",
    "                # Hints: use numpy random.randint to get a\n",
    "                # random row index;\n",
    "                # use pandas iloc to get that exact row from\n",
    "                # original data set and then use pandas\n",
    "                # append to append it into this bootstrap\n",
    "                \n",
    "                temp = temp.append(X_y.iloc[random.randint(0,rows-1)])\n",
    "            #end for j\n",
    "            \n",
    "            bootstraps[i] = temp\n",
    "        #end for i\n",
    "        \n",
    "        \n",
    "        # Return each bootstrap\n",
    "        return bootstraps\n",
    "    \n",
    "   # end __generate_bootstraps\n",
    "\n",
    "\n",
    "    \n",
    "\n",
    "\n",
    "# BaggingClassifier"
   ]
  },
  {
   "cell_type": "code",
   "execution_count": 38,
   "id": "702dc38e",
   "metadata": {},
   "outputs": [],
   "source": [
    "def accuracy(classifier, data):\n",
    "    # Steps:\n",
    "    rows = len(data)\n",
    "    columns = data.columns\n",
    "    num_columns = len(columns)\n",
    "    \n",
    "    y = pd.Series(data[columns[num_columns-1]])\n",
    "    x = data.drop(columns[num_columns-1], axis = 1)\n",
    "    \n",
    "    \n",
    "    # Get the predictions for this classifier\n",
    "    # Get the actual classes for this data\n",
    "    \n",
    "    predictions = classifier.predict(x)\n",
    "    \n",
    "    correct = 0\n",
    "    for i in range(rows):\n",
    "        \n",
    "        if predictions.iloc[0][i] == y.iloc[i]:\n",
    "            correct = correct+1\n",
    "        #end if\n",
    "    #end for\n",
    "    \n",
    "    return correct/rows\n",
    "    \n",
    "    # Calculate percentage of correct classifications\n",
    "    # and return it\n",
    "# end accuracy"
   ]
  },
  {
   "cell_type": "code",
   "execution_count": 39,
   "id": "44e3d54a",
   "metadata": {},
   "outputs": [],
   "source": [
    "def get_accuracy():\n",
    "    # Return the accuracy of bagging and random forest classifiers\n",
    "    # Use 3-fold cross-validation to return the accuracy of\n",
    "    # 1. Bagging\n",
    "    # 2. Random forest\n",
    "    # on the data.csv or the arrhythmia.csv data set\n",
    "    \n",
    "    #data = pd.read_csv(\"data.csv\", header = None)\n",
    "#     data = pd.read_csv(\"arrhythmia.csv\", header=None)\n",
    "    data = train\n",
    "    data = data.sample(frac=1)\n",
    "        \n",
    "    \n",
    "    sqrt_num_attrs = math.floor(math.sqrt(data.shape[1]))\n",
    "    \n",
    "    \n",
    "    rows = len(data)\n",
    "    columns = data.columns\n",
    "    num_columns = len(columns)\n",
    "    \n",
    "    \n",
    "    partition1 = int(rows/3)\n",
    "    partition2 = partition1*2\n",
    "    partition3 = rows\n",
    "    \n",
    "    \n",
    "     #step 1: split data into 3 equal parts (randomize data beforehand)\n",
    "        \n",
    "    #data1,data2,data3\n",
    "    dt1 = data[0:partition1]\n",
    "    dt2 = data[partition1:partition2]\n",
    "    dt3 = data[partition2:partition3]\n",
    "\n",
    "    \n",
    "  #step 2: create a validation and training set\n",
    "\n",
    "    #training sets\n",
    "    ts1 = dt2.append(dt3) #dt1 is the validation\n",
    "    ts2 = dt1.append(dt3) #dt2 is the validation\n",
    "    ts3 = dt1.append(dt2) #dt3 is the validation\n",
    "    \n",
    "    \n",
    "    parameters = np.arange(4, 6, 1)\n",
    "    for i in range(0, len(parameters)):\n",
    "\n",
    "        num_trees = parameters[i]\n",
    "        num_split_attrs = sqrt_num_attrs * parameters[i]\n",
    "        \n",
    "        # Do 3-fold cross validation for BaggingClassifier instances representing\n",
    "        # (1) a bagging classifier and (2) a random forest classifier\n",
    "        \n",
    "        \n",
    "        #step 3: build a bagging classifier object and .fit(training set)\n",
    "        #bagging classifier objects\n",
    "        \n",
    "        bc1 = CustomBaggingClassifier(num_trees,None)\n",
    "        bc1rf = CustomBaggingClassifier(num_trees,sqrt_num_attrs)\n",
    "        bc2 = CustomBaggingClassifier(num_trees,None)\n",
    "        bc2rf = CustomBaggingClassifier(num_trees,sqrt_num_attrs)\n",
    "        bc3 = CustomBaggingClassifier(num_trees,None)\n",
    "        bc3rf = CustomBaggingClassifier(num_trees,sqrt_num_attrs)\n",
    "        \n",
    "        \n",
    "        #fitting the bagging classifiers for both bagging, and random forests\n",
    "        ts1_y = pd.Series(ts1[columns[num_columns-1]])\n",
    "        ts1_x = ts1.drop(columns[num_columns-1], axis = 1)\n",
    "        \n",
    "        ts2_y = pd.Series(ts2[columns[num_columns-1]])\n",
    "        ts2_x = ts2.drop(columns[num_columns-1], axis = 1)\n",
    "        \n",
    "        ts3_y = pd.Series(ts3[columns[num_columns-1]])\n",
    "        ts3_x = ts3.drop(columns[num_columns-1], axis = 1)\n",
    "        \n",
    "        bc1.fit(ts1_x,ts1_y)\n",
    "        bc1rf.fit(ts1_x,ts1_y)\n",
    "        \n",
    "        bc2.fit(ts2_x,ts2_y)\n",
    "        bc2rf.fit(ts2_x,ts2_y)\n",
    "        \n",
    "        bc3.fit(ts3_x,ts3_y)\n",
    "        bc3rf.fit(ts3_x,ts3_y)\n",
    "\n",
    "        \n",
    "      #step 4: test for  the accuracy for the validation set and calc the average\n",
    "    \n",
    "        bagging_avg_accuracy = (accuracy(bc1,dt1) + accuracy(bc2,dt2) + accuracy(bc3,dt3)) / 3\n",
    "        rf_avg_accuracy = (accuracy(bc1rf,dt1) + accuracy(bc2rf,dt2) + accuracy(bc3rf,dt3)) / 3\n",
    "        \n",
    "        \n",
    "        \n",
    "\n",
    "        print(\"BC:  num trees: {}, avg validation accuracy: {}\".format(num_trees, bagging_avg_accuracy))\n",
    "        print(\"RFC: num trees: {}, num split attrs: {}, avg validation accuracy: {}\".format(num_trees, num_split_attrs, rf_avg_accuracy))\n",
    "        \n",
    "    # end for each parameter\n",
    "# end get_accuracy"
   ]
  },
  {
   "cell_type": "code",
   "execution_count": 40,
   "id": "4850f30d",
   "metadata": {},
   "outputs": [
    {
     "name": "stdout",
     "output_type": "stream",
     "text": [
      "BC:  num trees: 1, avg validation accuracy: 0.811008613403823\n",
      "RFC: num trees: 1, num split attrs: 2, avg validation accuracy: 0.7639525753298209\n",
      "BC:  num trees: 2, avg validation accuracy: 0.8309656962351574\n",
      "RFC: num trees: 2, num split attrs: 4, avg validation accuracy: 0.7689665713617809\n",
      "BC:  num trees: 3, avg validation accuracy: 0.8439877002751254\n",
      "RFC: num trees: 3, num split attrs: 6, avg validation accuracy: 0.8160316004627383\n",
      "BC:  num trees: 4, avg validation accuracy: 0.8490016963070856\n",
      "RFC: num trees: 4, num split attrs: 8, avg validation accuracy: 0.8240306174437911\n",
      "BC:  num trees: 5, avg validation accuracy: 0.8579837322352293\n",
      "RFC: num trees: 5, num split attrs: 10, avg validation accuracy: 0.8490106873340406\n",
      "BC:  num trees: 6, avg validation accuracy: 0.8550047053041064\n",
      "RFC: num trees: 6, num split attrs: 12, avg validation accuracy: 0.8189776602950256\n",
      "BC:  num trees: 7, avg validation accuracy: 0.8599977222731714\n",
      "RFC: num trees: 7, num split attrs: 14, avg validation accuracy: 0.8309836782890675\n",
      "BC:  num trees: 8, avg validation accuracy: 0.8629977282671893\n",
      "RFC: num trees: 8, num split attrs: 16, avg validation accuracy: 0.8410146673619727\n",
      "BC:  num trees: 9, avg validation accuracy: 0.8709937482392572\n",
      "RFC: num trees: 9, num split attrs: 18, avg validation accuracy: 0.8539977102851354\n",
      "BC:  num trees: 10, avg validation accuracy: 0.8760077442712174\n",
      "RFC: num trees: 10, num split attrs: 20, avg validation accuracy: 0.8469996943050835\n",
      "BC:  num trees: 11, avg validation accuracy: 0.8639957322592053\n",
      "RFC: num trees: 11, num split attrs: 22, avg validation accuracy: 0.8459986933040825\n",
      "BC:  num trees: 12, avg validation accuracy: 0.8750007492522464\n",
      "RFC: num trees: 12, num split attrs: 24, avg validation accuracy: 0.8539797282312253\n"
     ]
    }
   ],
   "source": [
    "get_accuracy()"
   ]
  },
  {
   "cell_type": "code",
   "execution_count": 41,
   "id": "fa4441e9",
   "metadata": {},
   "outputs": [
    {
     "name": "stdout",
     "output_type": "stream",
     "text": [
      "<class 'pandas.core.frame.DataFrame'>\n",
      "RangeIndex: 1000 entries, 0 to 999\n",
      "Data columns (total 5 columns):\n",
      " #   Column             Non-Null Count  Dtype  \n",
      "---  ------             --------------  -----  \n",
      " 0   Sensor1_PM2.5      1000 non-null   float64\n",
      " 1   Sensor2_PM2.5      1000 non-null   float64\n",
      " 2   Temperature        1000 non-null   float64\n",
      " 3   Relative_Humidity  1000 non-null   float64\n",
      " 4   Offset_fault       1000 non-null   int64  \n",
      "dtypes: float64(4), int64(1)\n",
      "memory usage: 39.2 KB\n"
     ]
    }
   ],
   "source": [
    "train.info()"
   ]
  },
  {
   "cell_type": "code",
   "execution_count": 42,
   "id": "c0626e6a",
   "metadata": {},
   "outputs": [],
   "source": [
    "# # drop Name ID : unusable\n",
    "# train = train.drop(['year'], axis = 1)\n",
    "# train = train.drop(['month'], axis = 1)\n",
    "# train = train.drop(['day'], axis = 1)\n",
    "# train = train.drop(['hour'], axis = 1)\n",
    "# train = train.drop(['minute'], axis = 1)\n",
    "# train = train.drop(['Temperature_band'], axis = 1)"
   ]
  }
 ],
 "metadata": {
  "kernelspec": {
   "display_name": "Python 3 (ipykernel)",
   "language": "python",
   "name": "python3"
  },
  "language_info": {
   "codemirror_mode": {
    "name": "ipython",
    "version": 3
   },
   "file_extension": ".py",
   "mimetype": "text/x-python",
   "name": "python",
   "nbconvert_exporter": "python",
   "pygments_lexer": "ipython3",
   "version": "3.9.7"
  }
 },
 "nbformat": 4,
 "nbformat_minor": 5
}
